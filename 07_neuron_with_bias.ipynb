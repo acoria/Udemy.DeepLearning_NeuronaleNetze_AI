{
 "cells": [
  {
   "cell_type": "markdown",
   "id": "c481a53c",
   "metadata": {},
   "source": [
    "### Bias\n",
    "Ein Bias wird gebraucht, wenn die Funktion nicht einfach y = x * w ist\n",
    "\n",
    "z.B. bei der Umrechnung von Celsius in Fahrenheit\n",
    "\n",
    "-> Fahrenheit = Celsius * 1.8 + 32"
   ]
  },
  {
   "cell_type": "markdown",
   "id": "4c7298f4",
   "metadata": {},
   "source": [
    "<img src=\"assets/single_neuron_with_bias.png\" alt=\"Ein einzelnes Neuron mit Bias\">"
   ]
  },
  {
   "cell_type": "code",
   "execution_count": 2,
   "id": "a6c4f961-868b-4ac2-b4bf-057cf666bcee",
   "metadata": {},
   "outputs": [],
   "source": [
    "X = [[-10], [0],[20]]\n",
    "y = [14,32,68]"
   ]
  },
  {
   "cell_type": "code",
   "execution_count": 4,
   "id": "ff48ff93-91b3-4176-8eee-e56aec4b7b21",
   "metadata": {},
   "outputs": [
    {
     "name": "stdout",
     "output_type": "stream",
     "text": [
      "[1.8]\n",
      "32.0\n"
     ]
    }
   ],
   "source": [
    "from sklearn.linear_model import LinearRegression\n",
    "\n",
    "# fit_intercept parameter ist die Angabe, ob es einen Bias gibt (also eine Verschiebung auf der y-Achse, deshalb \"intercept\")\n",
    "model = LinearRegression(fit_intercept = True) # default ist true, könnte also weggelassen werden\n",
    "model.fit(X,y)\n",
    "\n",
    "# jetzt ist das Model in der Lage, den Bias miteinzubeziehen\n",
    "print(model.coef_) # -> 1.8\n",
    "print(model.intercept_) # -> 32"
   ]
  }
 ],
 "metadata": {
  "kernelspec": {
   "display_name": "Python 3",
   "language": "python",
   "name": "python3"
  },
  "language_info": {
   "codemirror_mode": {
    "name": "ipython",
    "version": 3
   },
   "file_extension": ".py",
   "mimetype": "text/x-python",
   "name": "python",
   "nbconvert_exporter": "python",
   "pygments_lexer": "ipython3",
   "version": "3.11.11"
  }
 },
 "nbformat": 4,
 "nbformat_minor": 5
}
