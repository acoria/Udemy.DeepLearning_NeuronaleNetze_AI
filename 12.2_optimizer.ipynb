{
 "cells": [
  {
   "cell_type": "markdown",
   "metadata": {},
   "source": [
    "### Optimizer\n",
    "Bei neuronalen Netzen wird versucht den Fehler (also der Unterschied zwischen dem vom Netz ermittelten und dem eigentlichen Wert) so gering wie möglich zu halten.\n",
    "Dafür wird die Gewichtung schrittweise angepasst und der Fehler neu berechnet und geprüft, ob er kleiner wird. \n",
    "Es gibt unterschiedliche Optimierungsfunktionen, um den Fehler zu minimieruen bzw. die bestmögliche Gewichtung zu finden.\n",
    "\n",
    "<img src=\"assets/opimizer_functions.png\">\n",
    "\n",
    "Der Link https://github.com/wassname/viz_torch_optim zeigt die unterschiedlichen Ermittlungen, die unterschiedlich agieren.\n",
    "Die Grafik zeigt eine typografische Karte, auf dem der tiefste Punkt gefunden werden soll.\n",
    "\n",
    "Die Gängisten:\n",
    "\n",
    "#### SDG - Stochastic Descent Gradient\n",
    "Beim Stochastic Gradient Descent wird der tiefste Punkt ermittelt, indem man auf dem Graphen immer weiter nach unten geht (schrittweise wie bei einem Lautstärkeregler). Dies kann unter Umständen länger dauern.\n",
    "\n",
    "<img src=\"assets/stochastic_gradient_descent.png\" height=\"250rem\">\n",
    "\n",
    "#### RMSprop \n",
    "Hier kann man sich vorstellen, dass man eine Kugel den Berg runter rollen lässt. Sie nimmt immer mehr Fahrt auf, aber schießt erstmal über das Ziel hinaus.\n",
    "\n",
    "#### Adam"
   ]
  }
 ],
 "metadata": {
  "language_info": {
   "name": "python"
  }
 },
 "nbformat": 4,
 "nbformat_minor": 2
}
