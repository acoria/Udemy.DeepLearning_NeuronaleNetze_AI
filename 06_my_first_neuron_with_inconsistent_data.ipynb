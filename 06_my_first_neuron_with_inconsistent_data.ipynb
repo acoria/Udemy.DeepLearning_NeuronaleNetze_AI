{
 "cells": [
  {
   "cell_type": "code",
   "execution_count": 2,
   "id": "30290798-5ce8-4f4d-b546-338e246d3228",
   "metadata": {},
   "outputs": [
    {
     "name": "stdout",
     "output_type": "stream",
     "text": [
      "Korrekte Meilen: [ 6.21528662  9.32292994 37.29171975  7.45834395]\n",
      "Ermittelte Gewichtung: [0.62152866]\n"
     ]
    }
   ],
   "source": [
    "kilometers = [[10], [15], [60]]\n",
    "correct_miles = [6.2, 9.3, 37.3]\n",
    "\n",
    "from sklearn.linear_model import LinearRegression\n",
    "\n",
    "model = LinearRegression(fit_intercept = False)\n",
    "model.fit(kilometers, correct_miles)\n",
    "\n",
    "print(\"Korrekte Meilen: \" + str(model.predict([[10], [15], [60], [12]])))\n",
    "print(\"Ermittelte Gewichtung: \" + str(model.coef_))\n"
   ]
  },
  {
   "cell_type": "code",
   "execution_count": 3,
   "id": "29005630-1bb6-4a81-a616-53aa6ffa7b48",
   "metadata": {},
   "outputs": [
    {
     "name": "stdout",
     "output_type": "stream",
     "text": [
      "Inakkurate Meilen: [ 6.20176948  9.30265421 37.21061686  7.44212337]\n",
      "Ermittelte Gewichtung: [0.62017695]\n"
     ]
    }
   ],
   "source": [
    "# was passiert, wenn Messungenauigkeiten auftreten?\n",
    "# 12km sollten 7.45mi sein -> werden aber als 7 eingetragen\n",
    "kilometers = [[10], [15], [60], [12]]\n",
    "inaccurate_miles = [6.2, 9.3, 37.3, 7]\n",
    "\n",
    "from sklearn.linear_model import LinearRegression\n",
    "\n",
    "model = LinearRegression(fit_intercept = False)\n",
    "model.fit(kilometers, inaccurate_miles)\n",
    "\n",
    "print(\"Inakkurate Meilen: \" + str(model.predict([[10], [15], [60], [12]])))\n",
    "print(\"Ermittelte Gewichtung: \" + str(model.coef_))"
   ]
  },
  {
   "cell_type": "code",
   "execution_count": 4,
   "id": "c4d4dd29-e168-4318-8eab-f9d9570fffc4",
   "metadata": {},
   "outputs": [
    {
     "name": "stdout",
     "output_type": "stream",
     "text": [
      "Korrekte Meilen: [ 8.17768493 12.2665274  49.06610961  9.81322192]\n",
      "Ermittelte Gewichtung: [0.81776849]\n"
     ]
    }
   ],
   "source": [
    "# was passiert, wenn Messfehler auftreten?\n",
    "# 12km sollten 7.45mi sein -> werden aber als 74 eingetragen\n",
    "kilometers = [[10], [15], [60], [12]]\n",
    "incorrect_miles = [6.2, 9.3, 37.3, 74]\n",
    "\n",
    "from sklearn.linear_model import LinearRegression\n",
    "\n",
    "model = LinearRegression(fit_intercept = False)\n",
    "model.fit(kilometers, incorrect_miles)\n",
    "\n",
    "print(\"Korrekte Meilen: \" + str(model.predict([[10], [15], [60], [12]])))\n",
    "print(\"Ermittelte Gewichtung: \" + str(model.coef_))"
   ]
  }
 ],
 "metadata": {
  "kernelspec": {
   "display_name": "Python 3",
   "language": "python",
   "name": "python3"
  },
  "language_info": {
   "codemirror_mode": {
    "name": "ipython",
    "version": 3
   },
   "file_extension": ".py",
   "mimetype": "text/x-python",
   "name": "python",
   "nbconvert_exporter": "python",
   "pygments_lexer": "ipython3",
   "version": "3.11.11"
  }
 },
 "nbformat": 4,
 "nbformat_minor": 5
}
