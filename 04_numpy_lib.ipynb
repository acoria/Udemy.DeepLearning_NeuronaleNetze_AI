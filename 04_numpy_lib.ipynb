{
 "cells": [
  {
   "cell_type": "code",
   "execution_count": 2,
   "id": "7235fbe9-2209-42fa-a2e1-04870ea450e9",
   "metadata": {},
   "outputs": [],
   "source": [
    "import numpy as np"
   ]
  },
  {
   "cell_type": "markdown",
   "id": "526d24dd-597a-4251-bcc3-af0482e11a17",
   "metadata": {},
   "source": [
    "- numpy ist eine Library, die es ermöglicht, einfacher mit Zahlen zu rechnen\n",
    "- Arbeitsspeicher schonender"
   ]
  },
  {
   "cell_type": "code",
   "execution_count": 3,
   "id": "bfd0e2ca-8d16-42d2-b404-1063327d09fc",
   "metadata": {},
   "outputs": [
    {
     "name": "stdout",
     "output_type": "stream",
     "text": [
      "[2 4 6 8]\n"
     ]
    }
   ],
   "source": [
    "# Zahlen in einem Array können direkt multipliziert werden \n",
    "list = np.array([1,2,3,4])\n",
    "print(list * 2)"
   ]
  },
  {
   "cell_type": "code",
   "execution_count": 4,
   "id": "46901e54-5083-4b16-8bca-63d495877a3f",
   "metadata": {},
   "outputs": [
    {
     "name": "stdout",
     "output_type": "stream",
     "text": [
      "[1, 2, 3, 4, 1, 2, 3, 4]\n"
     ]
    }
   ],
   "source": [
    "# ohne numpy passiert folgendes\n",
    "normalList = [1,2,3,4]\n",
    "print(normalList * 2)"
   ]
  },
  {
   "cell_type": "markdown",
   "id": "a5c3c136-efde-41cf-b2ac-7d17473d4fd5",
   "metadata": {},
   "source": [
    "### Matrix"
   ]
  },
  {
   "cell_type": "code",
   "execution_count": 5,
   "id": "cd451881-db23-425d-be4d-a037b1755d98",
   "metadata": {},
   "outputs": [
    {
     "name": "stdout",
     "output_type": "stream",
     "text": [
      "[[1 2 3]\n",
      " [4 5 6]]\n"
     ]
    }
   ],
   "source": [
    "matrix = np.array([[1,2,3], [4,5,6]])\n",
    "print(matrix)"
   ]
  },
  {
   "cell_type": "markdown",
   "id": "e6bcf5e0-b340-4e51-947d-241886d6abc6",
   "metadata": {},
   "source": [
    "#### Stelle in Matrix addressieren"
   ]
  },
  {
   "cell_type": "code",
   "execution_count": 6,
   "id": "4ecbfb1f-959c-419f-9320-c9ae0226c533",
   "metadata": {},
   "outputs": [
    {
     "name": "stdout",
     "output_type": "stream",
     "text": [
      "1\n",
      "6\n"
     ]
    }
   ],
   "source": [
    "print(matrix[0,0])\n",
    "print(matrix[1,2])"
   ]
  },
  {
   "cell_type": "markdown",
   "id": "0273cb71-343d-4be4-8c47-70d5ee2d0995",
   "metadata": {},
   "source": [
    "#### Spalte in Matrix addressieren"
   ]
  },
  {
   "cell_type": "code",
   "execution_count": 7,
   "id": "8c496cdd-9286-4a75-82c7-3b8f91b1ab06",
   "metadata": {},
   "outputs": [
    {
     "name": "stdout",
     "output_type": "stream",
     "text": [
      "[1 4]\n"
     ]
    }
   ],
   "source": [
    "# gib mir aus allen Zeilen (:) die erste Spalte\n",
    "print(matrix[:,0])"
   ]
  },
  {
   "cell_type": "code",
   "execution_count": 8,
   "id": "bcece7d6-bcec-4e11-878e-d19986103ea6",
   "metadata": {},
   "outputs": [
    {
     "name": "stdout",
     "output_type": "stream",
     "text": [
      "[4 5 6]\n"
     ]
    }
   ],
   "source": [
    "# gib mir aus der zweiten Zeile alle Einträge\n",
    "print(matrix[1,:])"
   ]
  },
  {
   "cell_type": "markdown",
   "id": "1e403bde",
   "metadata": {},
   "source": [
    "#### Arrays"
   ]
  },
  {
   "cell_type": "code",
   "execution_count": 9,
   "id": "1a2475ba",
   "metadata": {},
   "outputs": [
    {
     "name": "stdout",
     "output_type": "stream",
     "text": [
      "[1, 2, 3]\n",
      "[1 2 3]\n"
     ]
    }
   ],
   "source": [
    "normalArray = [1,2,3]\n",
    "print(normalArray)\n",
    "\n",
    "numpyArray = np.array([1,2,3])\n",
    "print(numpyArray)"
   ]
  },
  {
   "cell_type": "markdown",
   "id": "9292699a",
   "metadata": {},
   "source": [
    "shape: Listet die Anzahl der Einträge in einem Array auf "
   ]
  },
  {
   "cell_type": "code",
   "execution_count": 10,
   "id": "7721cde0",
   "metadata": {},
   "outputs": [
    {
     "name": "stdout",
     "output_type": "stream",
     "text": [
      "['Anton' 'Susi' 'Hank']\n"
     ]
    },
    {
     "data": {
      "text/plain": [
       "(3,)"
      ]
     },
     "execution_count": 10,
     "metadata": {},
     "output_type": "execute_result"
    }
   ],
   "source": [
    "names = np.array([\"Anton\", \"Susi\", \"Hank\"])\n",
    "print(names)\n",
    "names.shape"
   ]
  },
  {
   "cell_type": "code",
   "execution_count": 11,
   "id": "9ecbb8e6",
   "metadata": {},
   "outputs": [
    {
     "name": "stdout",
     "output_type": "stream",
     "text": [
      "[[1 2 3]\n",
      " [4 5 6]]\n",
      "shapes:\n",
      "(2, 3)\n",
      "first entry:\n",
      "[1 2 3]\n"
     ]
    }
   ],
   "source": [
    "entries = np.array([[1,2,3], [4,5,6]])\n",
    "print(entries)\n",
    "print(\"shapes:\")\n",
    "print(entries.shape)\n",
    "print(\"first entry:\")\n",
    "print(entries[0])"
   ]
  },
  {
   "cell_type": "markdown",
   "id": "61ee91c7",
   "metadata": {},
   "source": [
    "reshape: Umarrangieren von Werten in einem Array"
   ]
  },
  {
   "cell_type": "code",
   "execution_count": 16,
   "id": "630d0a6c",
   "metadata": {},
   "outputs": [
    {
     "name": "stdout",
     "output_type": "stream",
     "text": [
      "[[[1.1 1.2]\n",
      "  [2.1 2.2]\n",
      "  [3.1 3.2]]]\n",
      "shapes:\n",
      "(1, 3, 2)\n",
      "first entry:\n",
      "reshaped:\n",
      "[[1.1 1.2 2.1 2.2 3.1 3.2]]\n",
      "[[1.1 1.2 2.1]\n",
      " [2.2 3.1 3.2]]\n",
      "and?\n",
      "[[1.1 1.2 2.1]\n",
      " [2.2 3.1 3.2]]\n"
     ]
    }
   ],
   "source": [
    "entries = np.array([[[1.1, 1.2],[2.1, 2.2],[3.1, 3.2]]])\n",
    "print(entries)\n",
    "print(\"shapes:\")\n",
    "print(entries.shape)\n",
    "print(\"first entry:\")\n",
    "\n",
    "# reshape: erlaubt z.B. das Umstrukturieren eines Arrays\n",
    "# z.B. mache aus dem Array (1,3,2) ein Array, in dem die hinteren Einträge gemerged werden\n",
    "print(\"reshaped:\")\n",
    "print(entries.reshape(1, 6))\n",
    "# oder mache aus dem Array (1,3,2) ein Array, in dem die Einträge auf zwei Zeilen mit je drei Einträgen verteilt werden\n",
    "print(entries.reshape(2, 3))\n",
    "\n",
    "# np kann auch selbst ausrechnen, wieviele Einträge in einem Array sind. Daher kann auch die Schreibweise \"-1\" gewählt werden\n",
    "print(\"selbst ausgerechnet:\")\n",
    "print(entries.reshape(-1, 3))"
   ]
  },
  {
   "cell_type": "code",
   "execution_count": 13,
   "id": "26572f3f",
   "metadata": {},
   "outputs": [
    {
     "data": {
      "text/plain": [
       "array([[1],\n",
       "       [2],\n",
       "       [3]])"
      ]
     },
     "execution_count": 13,
     "metadata": {},
     "output_type": "execute_result"
    }
   ],
   "source": [
    "np.array([1,2,3]).reshape(3,1)"
   ]
  }
 ],
 "metadata": {
  "kernelspec": {
   "display_name": "Python 3",
   "language": "python",
   "name": "python3"
  },
  "language_info": {
   "codemirror_mode": {
    "name": "ipython",
    "version": 3
   },
   "file_extension": ".py",
   "mimetype": "text/x-python",
   "name": "python",
   "nbconvert_exporter": "python",
   "pygments_lexer": "ipython3",
   "version": "3.11.11"
  }
 },
 "nbformat": 4,
 "nbformat_minor": 5
}
