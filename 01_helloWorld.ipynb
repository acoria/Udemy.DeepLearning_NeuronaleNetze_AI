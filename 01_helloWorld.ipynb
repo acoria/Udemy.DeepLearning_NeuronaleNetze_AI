{
 "cells": [
  {
   "cell_type": "markdown",
   "id": "b6cd592a-36df-4006-b62a-9e85394e2553",
   "metadata": {},
   "source": [
    "Diese laufende Umgebung ist eine Python Instanz. d.h. alle definierten Variablen bleiben zugewiesen"
   ]
  },
  {
   "cell_type": "markdown",
   "id": "a999a539-418a-4502-926f-c5caa7337c9b",
   "metadata": {},
   "source": [
    "##### Mein erstes **Hello World** Programm"
   ]
  },
  {
   "cell_type": "code",
   "execution_count": 2,
   "id": "a1b4ea78-0468-4e1a-a9b5-af734c6f5d20",
   "metadata": {},
   "outputs": [
    {
     "name": "stdout",
     "output_type": "stream",
     "text": [
      "Hello world\n"
     ]
    }
   ],
   "source": [
    "print(\"Hello world\")"
   ]
  }
 ],
 "metadata": {
  "kernelspec": {
   "display_name": "Python 3",
   "language": "python",
   "name": "python3"
  },
  "language_info": {
   "codemirror_mode": {
    "name": "ipython",
    "version": 3
   },
   "file_extension": ".py",
   "mimetype": "text/x-python",
   "name": "python",
   "nbconvert_exporter": "python",
   "pygments_lexer": "ipython3",
   "version": "3.11.11"
  }
 },
 "nbformat": 4,
 "nbformat_minor": 5
}
