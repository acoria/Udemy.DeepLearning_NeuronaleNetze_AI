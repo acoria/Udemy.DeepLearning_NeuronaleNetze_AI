{
 "cells": [
  {
   "cell_type": "markdown",
   "id": "43199f58-ed85-4a85-a561-7573ec9c4da6",
   "metadata": {},
   "source": [
    "### Begriffe\n",
    "\n",
    "#### Jupyter-Server\n",
    "- läuft unter http://localhost:8888\n",
    "- hostet die Notebooks (Backend) bzw. ermöglicht die Interaktion mit der Python-Umgebung\n",
    "- ihm teilt man mit, einen Kernel zu verwenden, der in einer bestimmten Umgebung läuft\n",
    "\n",
    "#### Kernel\n",
    "z.B. Python (es gibt aber auch andere für andere Programmiersprachen z.B. R-Code, die auch auf Jupyter laufen)\n",
    "- führt Code aus\n",
    "- hat einen Speicher (Variablen, Objekte, Importe)\n",
    "- kommuniziert mit der Jupyter-Benutzeroberfläche (Frontend), um die Ausgaben, Fehlermeldungen und Visualisierungen anzuzeigen\n",
    "\n",
    "#### Python-Umgebung\n",
    "- z.B. Conda oder Venv (Conda ist umfangreicher für KI, Venv ist eine abgespeckte Version & virtuelle Umgebung)\n",
    "- der Kernel läuft in dieser Umgebung\n",
    "- verwaltet die Libs\n",
    "- die aktive Umgebung kann bei einer Conda-Umgebung mit\n",
    "``conda info`` abgefragt werden\n",
    "\n",
    "#### Jupyter Notebook\n",
    "- Frontend-Anwendung zum Schreiben und einzelnen Ausführen von Code-Snippets (Cells), die mittels Markdown-Snippets dokumentiert werden können\n",
    "- Dateien haben die Endung .ipynb (i: interaktiv)\n",
    "- um die Raw-Datei in VS Code anzuschauen, auf den Tab der Datei klicken und \"Reopen Editor with\" klicken und \"Text-Editor\" auswählen\n",
    "\n",
    "##### IPython\n",
    "- Ein Bild anzeigen, als Python-Code:\n",
    "``\n",
    "from IPython import display\n",
    "display.Image(\"assets/single_neuron.png\")\n",
    "``\n",
    "- Ein Bild anzeigen, als Markdown:\n",
    "``\n",
    "<img src=\"path-to-image\" alt=\"Alternative text\" />\n",
    "``\n",
    "\n",
    "#### Interpreter\n",
    "- Kann ein Conda Interpreter (bzw. die angelegte Umgebung) sein -> z.B. zum Ausführen normaler Python Skripte\n",
    "- Kann ein Jupyter-Kernel sein -> z.B. für die Notebook-Anwendung\n",
    "\n",
    "### Python-Paketmanager pip\n",
    "- Befehle können mit folgendem Befehl installiert werden (z.B. numpy) | -m (verwende Modul pip)\n",
    "``\n",
    "python -m pip install numpy\n",
    "``\n",
    "- installierte Libs auflisten (wie package.json)\n",
    "``\n",
    "pip list\n",
    "``"
   ]
  },
  {
   "cell_type": "code",
   "execution_count": null,
   "id": "ac0f6fe8",
   "metadata": {},
   "outputs": [],
   "source": [
    "# Libs können auch direkt über das Coding (z.B. in einer Zelle) installiert werden. Das Ausrufezeichen bedeutet, dass die Zeile direkt und nicht als Python-Code ausgeführt wird \n",
    "# !pip install numpy"
   ]
  },
  {
   "cell_type": "markdown",
   "id": "3f594ce6",
   "metadata": {},
   "source": [
    "##### Version abfragen"
   ]
  },
  {
   "cell_type": "code",
   "execution_count": null,
   "id": "919252ca",
   "metadata": {},
   "outputs": [],
   "source": [
    "import tensorflow\n",
    "tensorflow.__version__"
   ]
  },
  {
   "cell_type": "markdown",
   "id": "3dbf6dde",
   "metadata": {},
   "source": [
    "### Erste Schritte\n",
    "1. Projekt-Ordner anlegen\n",
    "2. test.py Datei anlegen\n",
    "3. Environment anlegen (VS Code Menü -> Python: Create environment..) -> Conda auswählen und gewünschte Python Version\n",
    "4. unten rechts den Interpreter bzw. angelegte Environment auswählen"
   ]
  }
 ],
 "metadata": {
  "kernelspec": {
   "display_name": "Python 3",
   "language": "python",
   "name": "python3"
  },
  "language_info": {
   "codemirror_mode": {
    "name": "ipython",
    "version": 3
   },
   "file_extension": ".py",
   "mimetype": "text/x-python",
   "name": "python",
   "nbconvert_exporter": "python",
   "pygments_lexer": "ipython3",
   "version": "3.11.11"
  }
 },
 "nbformat": 4,
 "nbformat_minor": 5
}
