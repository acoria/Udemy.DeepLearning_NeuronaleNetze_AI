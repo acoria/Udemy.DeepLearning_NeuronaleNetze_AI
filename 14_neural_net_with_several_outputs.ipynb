{
 "cells": [
  {
   "cell_type": "code",
   "execution_count": 17,
   "metadata": {},
   "outputs": [],
   "source": [
    "import gzip\n",
    "import numpy as np\n",
    "\n",
    "def open_images(filename):\n",
    "    with gzip.open(filename, \"rb\") as file:\n",
    "        data = file.read()\n",
    "        return np.frombuffer(data, dtype=np.uint8, offset=16)\\\n",
    "            .reshape(-1, 28, 28)\\\n",
    "            .astype(np.float32)\n",
    "\n",
    "\n",
    "def open_labels(filename):\n",
    "    with gzip.open(filename, \"rb\") as file:\n",
    "        data = file.read()\n",
    "        return np.frombuffer(data, dtype=np.uint8, offset=8)\n",
    "\n",
    "X_train = open_images(\"data/fashion/train-images-idx3-ubyte.gz\")\n",
    "y_train = open_labels(\"data/fashion/train-labels-idx1-ubyte.gz\")"
   ]
  },
  {
   "cell_type": "markdown",
   "metadata": {},
   "source": [
    "#### to_categorical (one-hot-encoding)\n",
    "Nimmt alle möglichen Werte in einem Array (z.B. bei uns Zahlen von 0-9, die die unterschiedlichen Kleidungsstück-Kategorien repräsentieren und wandelt jeden Wert in ein Array um, das nur an der Stelle eine 1 hat, an der die Kategorie übereinstimmt. Alle anderen Werte sind 0.\n",
    "\n",
    "z.B.\n",
    "\n",
    "[2,0,1] -> [[0,0,1],[1,0,0],0,1,0]\n"
   ]
  },
  {
   "cell_type": "code",
   "execution_count": 18,
   "metadata": {},
   "outputs": [],
   "source": [
    "from keras.utils import to_categorical\n",
    "\n",
    "# to_categorical: \n",
    "y_train_categorical = to_categorical(y_train)\n",
    "X_train_mapped = X_train.reshape(60000, 784)\n"
   ]
  },
  {
   "cell_type": "code",
   "execution_count": 19,
   "metadata": {},
   "outputs": [
    {
     "name": "stdout",
     "output_type": "stream",
     "text": [
      "Epoch 1/10\n",
      "\u001b[1m60/60\u001b[0m \u001b[32m━━━━━━━━━━━━━━━━━━━━\u001b[0m\u001b[37m\u001b[0m \u001b[1m0s\u001b[0m 3ms/step - accuracy: 0.3231 - loss: 2.0133\n",
      "Epoch 2/10\n",
      "\u001b[1m60/60\u001b[0m \u001b[32m━━━━━━━━━━━━━━━━━━━━\u001b[0m\u001b[37m\u001b[0m \u001b[1m0s\u001b[0m 4ms/step - accuracy: 0.6624 - loss: 1.3407\n",
      "Epoch 3/10\n",
      "\u001b[1m60/60\u001b[0m \u001b[32m━━━━━━━━━━━━━━━━━━━━\u001b[0m\u001b[37m\u001b[0m \u001b[1m0s\u001b[0m 3ms/step - accuracy: 0.7036 - loss: 1.1313\n",
      "Epoch 4/10\n",
      "\u001b[1m60/60\u001b[0m \u001b[32m━━━━━━━━━━━━━━━━━━━━\u001b[0m\u001b[37m\u001b[0m \u001b[1m0s\u001b[0m 3ms/step - accuracy: 0.7341 - loss: 1.0058\n",
      "Epoch 5/10\n",
      "\u001b[1m60/60\u001b[0m \u001b[32m━━━━━━━━━━━━━━━━━━━━\u001b[0m\u001b[37m\u001b[0m \u001b[1m0s\u001b[0m 3ms/step - accuracy: 0.7497 - loss: 0.9184\n",
      "Epoch 6/10\n",
      "\u001b[1m60/60\u001b[0m \u001b[32m━━━━━━━━━━━━━━━━━━━━\u001b[0m\u001b[37m\u001b[0m \u001b[1m0s\u001b[0m 2ms/step - accuracy: 0.7592 - loss: 0.8582\n",
      "Epoch 7/10\n",
      "\u001b[1m60/60\u001b[0m \u001b[32m━━━━━━━━━━━━━━━━━━━━\u001b[0m\u001b[37m\u001b[0m \u001b[1m0s\u001b[0m 2ms/step - accuracy: 0.7749 - loss: 0.8034\n",
      "Epoch 8/10\n",
      "\u001b[1m60/60\u001b[0m \u001b[32m━━━━━━━━━━━━━━━━━━━━\u001b[0m\u001b[37m\u001b[0m \u001b[1m0s\u001b[0m 3ms/step - accuracy: 0.7801 - loss: 0.7676\n",
      "Epoch 9/10\n",
      "\u001b[1m60/60\u001b[0m \u001b[32m━━━━━━━━━━━━━━━━━━━━\u001b[0m\u001b[37m\u001b[0m \u001b[1m0s\u001b[0m 4ms/step - accuracy: 0.7855 - loss: 0.7376\n",
      "Epoch 10/10\n",
      "\u001b[1m60/60\u001b[0m \u001b[32m━━━━━━━━━━━━━━━━━━━━\u001b[0m\u001b[37m\u001b[0m \u001b[1m0s\u001b[0m 3ms/step - accuracy: 0.7925 - loss: 0.7078\n"
     ]
    },
    {
     "data": {
      "text/plain": [
       "<keras.src.callbacks.history.History at 0x22346c3ad90>"
      ]
     },
     "execution_count": 19,
     "metadata": {},
     "output_type": "execute_result"
    }
   ],
   "source": [
    "# Sequential: bedeutet, dass man Ebene für Ebene ein Modell definieren kann\n",
    "from keras.models import Sequential\n",
    "# Dense: Standard-Layer. Bedeutet, dass alle möglichen Pfeile zwischen allen Neuronen erstellt werden (alles mit allem verknüpfen)\n",
    "from keras.layers import Dense\n",
    "\n",
    "model = Sequential()\n",
    "\n",
    "# Hidden layer \n",
    "#  100 Neuronen\n",
    "#  input_shape: Eingabeformat der Daten (bsw. 784 Zahlen für das 28*28px Image)\n",
    "#  (784,): Tuple - Python braucht für ein Tuple mit nur einem Wert ein ,\n",
    "model.add(Dense(100, activation=\"sigmoid\", input_shape=(784,)))\n",
    "\n",
    "# Ausgabe-Layer hat jetzt 10 Ausgänge für unsere 10 Kategorien \n",
    "model.add(Dense(10, activation=\"sigmoid\"))\n",
    "\n",
    "# generiert effizienteren Code. Nötig, falls es später auf einer GPU ausgeführt wird\n",
    "# optimizer: Welches Verfahren soll verwendet werden, um die Gewichte zu verstellen (sdg: stochastic gradient descent)\n",
    "# loss: Output-Format & ist eine Aussage über die Größe des Fehlers, der beim Vergleich von x und was als y herauskommen sollte, entsteht. Die Kosten, die man versucht zu minimieren -> (y - ^y) im Quadrat (Fehlergröße)\n",
    "#           - binary_crossentropy: wenn man wie vorher ja/nein bestimmen möchte\n",
    "#           - categorical_crossentropy: wenn man Kateorien bestimmen möchte\n",
    "model.compile(optimizer=\"sgd\", loss=\"categorical_crossentropy\", metrics=[\"accuracy\"])\n",
    "\n",
    "model.fit(\n",
    "    X_train_mapped,\n",
    "    y_train_categorical,\n",
    "    epochs =10,\n",
    "    batch_size=1000\n",
    ")\n"
   ]
  },
  {
   "cell_type": "markdown",
   "metadata": {},
   "source": [
    "#### Trainingserfolg prüfen"
   ]
  },
  {
   "cell_type": "code",
   "execution_count": 24,
   "metadata": {},
   "outputs": [
    {
     "name": "stdout",
     "output_type": "stream",
     "text": [
      "\u001b[1m313/313\u001b[0m \u001b[32m━━━━━━━━━━━━━━━━━━━━\u001b[0m\u001b[37m\u001b[0m \u001b[1m0s\u001b[0m 933us/step - accuracy: 0.7798 - loss: 0.7159\n"
     ]
    },
    {
     "data": {
      "text/plain": [
       "[0.7216154336929321, 0.7778000235557556]"
      ]
     },
     "execution_count": 24,
     "metadata": {},
     "output_type": "execute_result"
    }
   ],
   "source": [
    "X_test = open_images(\"data/fashion/t10k-images-idx3-ubyte.gz\").reshape(-1, 784)\n",
    "y_test = to_categorical(open_labels(\"data/fashion/t10k-labels-idx1-ubyte.gz\"))\n",
    "model.evaluate(X_test, y_test)"
   ]
  },
  {
   "cell_type": "markdown",
   "metadata": {},
   "source": [
    "#### Einzelne Werte testen"
   ]
  },
  {
   "cell_type": "code",
   "execution_count": 35,
   "metadata": {},
   "outputs": [
    {
     "name": "stdout",
     "output_type": "stream",
     "text": [
      "\u001b[1m313/313\u001b[0m \u001b[32m━━━━━━━━━━━━━━━━━━━━\u001b[0m\u001b[37m\u001b[0m \u001b[1m0s\u001b[0m 492us/step\n",
      "True\n"
     ]
    }
   ],
   "source": [
    "# Voraussage ermitteln\n",
    "pred = model.predict(X_test)\n",
    "\n",
    "# argmax: gibt die Stelle des größten Wertes im Array zurück (jeweils bei der Voraussage und dem eigentlichen Testwert)\n",
    "print(np.argmax(pred[0]) == np.argmax(y_test[0]))\n"
   ]
  }
 ],
 "metadata": {
  "kernelspec": {
   "display_name": "Python 3",
   "language": "python",
   "name": "python3"
  },
  "language_info": {
   "codemirror_mode": {
    "name": "ipython",
    "version": 3
   },
   "file_extension": ".py",
   "mimetype": "text/x-python",
   "name": "python",
   "nbconvert_exporter": "python",
   "pygments_lexer": "ipython3",
   "version": "3.11.11"
  }
 },
 "nbformat": 4,
 "nbformat_minor": 2
}
