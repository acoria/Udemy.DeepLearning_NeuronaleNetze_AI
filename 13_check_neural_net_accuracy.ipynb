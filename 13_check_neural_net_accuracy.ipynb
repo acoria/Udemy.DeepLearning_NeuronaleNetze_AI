{
 "cells": [
  {
   "cell_type": "markdown",
   "metadata": {},
   "source": [
    "### Genauigkeit der Aussage berechnen"
   ]
  },
  {
   "cell_type": "markdown",
   "metadata": {},
   "source": [
    "#### Beispiel von vorher"
   ]
  },
  {
   "cell_type": "code",
   "execution_count": 17,
   "metadata": {},
   "outputs": [],
   "source": [
    "# FashionMNIST: https://github.com/zalandoresearch/fashion-mnist\n",
    "\n",
    "import gzip\n",
    "import numpy as np\n",
    "\n",
    "def open_images(filename):\n",
    "    with gzip.open(filename, \"rb\") as file:\n",
    "        data = file.read()\n",
    "        return np.frombuffer(data, dtype=np.uint8, offset=16)\\\n",
    "            .reshape(-1, 28, 28)\\\n",
    "            .astype(np.float32)\n",
    "\n",
    "\n",
    "def open_labels(filename):\n",
    "    with gzip.open(filename, \"rb\") as file:\n",
    "        data = file.read()\n",
    "        return np.frombuffer(data, dtype=np.uint8, offset=8)\n",
    "    \n",
    "X_train = open_images(\"data/fashion/train-images-idx3-ubyte.gz\")\n",
    "y_train_categories = open_labels(\"data/fashion/train-labels-idx1-ubyte.gz\")\n",
    "\n",
    "# Sequential: bedeutet, dass man Ebene für Ebene ein Modell definieren kann\n",
    "from keras.models import Sequential\n",
    "# Dense: Standard-Layer. Bedeutet, dass alle möglichen Pfeile zwischen allen Neuronen erstellt werden (alles mit allem verknüpfen)\n",
    "from keras.layers import Dense\n",
    "\n",
    "model = Sequential()\n",
    "\n",
    "# Hidden layer \n",
    "#  100 Neuronen\n",
    "#  input_shape: Eingabeformat der Daten (bsw. 784 Zahlen für das 28*28px Image)\n",
    "#  (784,): Tuple - Python braucht für ein Tuple mit nur einem Wert ein ,\n",
    "model.add(Dense(100, activation=\"sigmoid\", input_shape=(784,)))\n",
    "\n",
    "# Ausgabeschicht\n",
    "#  Hier wird nur ein Neuron gebraucht\n",
    "model.add(Dense(1, activation=\"sigmoid\" ))"
   ]
  },
  {
   "cell_type": "markdown",
   "metadata": {},
   "source": [
    "#### Beim Kompilieren kann man Metriken angeben, die mit ausgeben werden sollen, z.B. die Genauigkeit (accuracy)"
   ]
  },
  {
   "cell_type": "code",
   "execution_count": 18,
   "metadata": {},
   "outputs": [],
   "source": [
    "# compile: generiert effizienteren Code. Nötig, falls es später auf einer GPU ausgeführt wird\n",
    "# optimizer: Welches Verfahren soll verwendet werden, um die Gewichte zu verstellen (stochastic gradient descent)\n",
    "# loss: Output-Format & ist eine Aussage über die Größe des Fehlers, der beim Vergleich von x und was als y herauskommen sollte, entsteht. Die Kosten, die man versucht zu minimieren -> (y - ^y) im Quadrat (Fehlergröße)\n",
    "# accuracy-Parameter übergeben \n",
    "model.compile(optimizer=\"sgd\", loss=\"binary_crossentropy\", metrics=[\"accuracy\"])"
   ]
  },
  {
   "cell_type": "markdown",
   "metadata": {},
   "source": [
    "#### Daten in das gewünschte Format bringen"
   ]
  },
  {
   "cell_type": "code",
   "execution_count": 19,
   "metadata": {},
   "outputs": [],
   "source": [
    "# Daten ummappen, damit die Daten statt im Format \"28x28\" als 784 Zahlen representiert werden \n",
    "# 60000 Datensätze mit jeweils 784 Einträgen\n",
    "X_train_mapped = X_train.reshape(60000, 784)\n",
    "\n",
    "# Für die Ermittlung sollen nur T-Shirts (Kategorie 0) betrachtet werden. Deshalb wird das Array auf true/false (T-Shirt oder nicht) umgemappt\n",
    "y_train = y_train_categories == 0"
   ]
  },
  {
   "cell_type": "markdown",
   "metadata": {},
   "source": [
    "### Genauigkeit wird beim Trainieren durch die accuracy-Angabe mit ausgegeben\n",
    "Nützlich, wenn das Trainieren länger läuft. Man hat so direktes Feedback, wie gut es bereits ist."
   ]
  },
  {
   "cell_type": "code",
   "execution_count": 20,
   "metadata": {},
   "outputs": [
    {
     "name": "stdout",
     "output_type": "stream",
     "text": [
      "Epoch 1/10\n",
      "\u001b[1m60/60\u001b[0m \u001b[32m━━━━━━━━━━━━━━━━━━━━\u001b[0m\u001b[37m\u001b[0m \u001b[1m0s\u001b[0m 3ms/step - accuracy: 0.7666 - loss: 0.4928\n",
      "Epoch 2/10\n",
      "\u001b[1m60/60\u001b[0m \u001b[32m━━━━━━━━━━━━━━━━━━━━\u001b[0m\u001b[37m\u001b[0m \u001b[1m0s\u001b[0m 3ms/step - accuracy: 0.9240 - loss: 0.1901\n",
      "Epoch 3/10\n",
      "\u001b[1m60/60\u001b[0m \u001b[32m━━━━━━━━━━━━━━━━━━━━\u001b[0m\u001b[37m\u001b[0m \u001b[1m0s\u001b[0m 3ms/step - accuracy: 0.9443 - loss: 0.1639\n",
      "Epoch 4/10\n",
      "\u001b[1m60/60\u001b[0m \u001b[32m━━━━━━━━━━━━━━━━━━━━\u001b[0m\u001b[37m\u001b[0m \u001b[1m0s\u001b[0m 3ms/step - accuracy: 0.9507 - loss: 0.1469\n",
      "Epoch 5/10\n",
      "\u001b[1m60/60\u001b[0m \u001b[32m━━━━━━━━━━━━━━━━━━━━\u001b[0m\u001b[37m\u001b[0m \u001b[1m0s\u001b[0m 3ms/step - accuracy: 0.9518 - loss: 0.1385\n",
      "Epoch 6/10\n",
      "\u001b[1m60/60\u001b[0m \u001b[32m━━━━━━━━━━━━━━━━━━━━\u001b[0m\u001b[37m\u001b[0m \u001b[1m0s\u001b[0m 3ms/step - accuracy: 0.9522 - loss: 0.1334\n",
      "Epoch 7/10\n",
      "\u001b[1m60/60\u001b[0m \u001b[32m━━━━━━━━━━━━━━━━━━━━\u001b[0m\u001b[37m\u001b[0m \u001b[1m0s\u001b[0m 2ms/step - accuracy: 0.9532 - loss: 0.1301\n",
      "Epoch 8/10\n",
      "\u001b[1m60/60\u001b[0m \u001b[32m━━━━━━━━━━━━━━━━━━━━\u001b[0m\u001b[37m\u001b[0m \u001b[1m0s\u001b[0m 3ms/step - accuracy: 0.9536 - loss: 0.1261\n",
      "Epoch 9/10\n",
      "\u001b[1m60/60\u001b[0m \u001b[32m━━━━━━━━━━━━━━━━━━━━\u001b[0m\u001b[37m\u001b[0m \u001b[1m0s\u001b[0m 3ms/step - accuracy: 0.9543 - loss: 0.1207\n",
      "Epoch 10/10\n",
      "\u001b[1m60/60\u001b[0m \u001b[32m━━━━━━━━━━━━━━━━━━━━\u001b[0m\u001b[37m\u001b[0m \u001b[1m0s\u001b[0m 3ms/step - accuracy: 0.9534 - loss: 0.1223\n"
     ]
    },
    {
     "data": {
      "text/plain": [
       "<keras.src.callbacks.history.History at 0x2c805a3e650>"
      ]
     },
     "execution_count": 20,
     "metadata": {},
     "output_type": "execute_result"
    }
   ],
   "source": [
    "# epochs: wie oft die Daten komplett durchlaufen werden\n",
    "# batch_size: schaue dir die ersten 1000 Bilder an und justiere anhand der Daten die Gewichte nach\n",
    "# weil immer nur sehr wenig justiert wird, muss man die Daten mehrfach durchlaufen\n",
    "model.fit(\n",
    "    X_train_mapped,\n",
    "    y_train,\n",
    "    epochs=10,\n",
    "    batch_size=1000\n",
    ")"
   ]
  },
  {
   "cell_type": "markdown",
   "metadata": {},
   "source": [
    "#### Trainingserfolg prüfen\n",
    "- Theoretisch kann man mit den vorhandenen Daten, mit denen man trainiert hat, testen.\n",
    "- Da hier aber etwas (z.B. ein Pixel an einer bestimmten Stelle) erkannt worden sein kann, sollte man sich Daten aufheben, mit denen man nicht lernt und diese später als Testlauf durchlaufen lassen -> Problem \"Overfitting\"\n",
    "- Gutes Maß: c.a. 75% Trainingsdaten / 25% Testdaten (bei neuronalen Netzen mit vielen Daten wird auch oft mit 10% Testdaten gearbeitet)"
   ]
  },
  {
   "cell_type": "code",
   "execution_count": 21,
   "metadata": {},
   "outputs": [
    {
     "name": "stdout",
     "output_type": "stream",
     "text": [
      "\u001b[1m1875/1875\u001b[0m \u001b[32m━━━━━━━━━━━━━━━━━━━━\u001b[0m\u001b[37m\u001b[0m \u001b[1m2s\u001b[0m 823us/step - accuracy: 0.9539 - loss: 0.1187\n",
      "[0.11923487484455109, 0.9543333053588867]\n",
      "['loss', 'compile_metrics']\n"
     ]
    }
   ],
   "source": [
    "# Test mit vorhandenen, trainierten Daten\n",
    "print(model.evaluate(X_train_mapped, y_train))\n",
    "# was sind die zwei ausgegebenen Zahlen?\n",
    "print(model.metrics_names)"
   ]
  },
  {
   "cell_type": "code",
   "execution_count": 22,
   "metadata": {},
   "outputs": [
    {
     "name": "stdout",
     "output_type": "stream",
     "text": [
      "\u001b[1m313/313\u001b[0m \u001b[32m━━━━━━━━━━━━━━━━━━━━\u001b[0m\u001b[37m\u001b[0m \u001b[1m0s\u001b[0m 869us/step - accuracy: 0.9554 - loss: 0.1223\n"
     ]
    },
    {
     "data": {
      "text/plain": [
       "[0.12538842856884003, 0.953000009059906]"
      ]
     },
     "execution_count": 22,
     "metadata": {},
     "output_type": "execute_result"
    }
   ],
   "source": [
    "# Test mit Testdaten (-1: zähle selbst die Anzahl an Einträgen)\n",
    "X_test = open_images(\"data/fashion/t10k-images-idx3-ubyte.gz\").reshape(-1, 784)\n",
    "y_test = open_labels(\"data/fashion/t10k-labels-idx1-ubyte.gz\") == 0\n",
    "\n",
    "model.evaluate(X_test, y_test)"
   ]
  }
 ],
 "metadata": {
  "kernelspec": {
   "display_name": "Python 3",
   "language": "python",
   "name": "python3"
  },
  "language_info": {
   "codemirror_mode": {
    "name": "ipython",
    "version": 3
   },
   "file_extension": ".py",
   "mimetype": "text/x-python",
   "name": "python",
   "nbconvert_exporter": "python",
   "pygments_lexer": "ipython3",
   "version": "3.11.11"
  }
 },
 "nbformat": 4,
 "nbformat_minor": 2
}
